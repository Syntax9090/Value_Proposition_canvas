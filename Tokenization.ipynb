{
  "nbformat": 4,
  "nbformat_minor": 0,
  "metadata": {
    "colab": {
      "provenance": [],
      "authorship_tag": "ABX9TyPH8UPvAgkwEcdvvNchjZOH",
      "include_colab_link": true
    },
    "kernelspec": {
      "name": "python3",
      "display_name": "Python 3"
    },
    "language_info": {
      "name": "python"
    }
  },
  "cells": [
    {
      "cell_type": "markdown",
      "metadata": {
        "id": "view-in-github",
        "colab_type": "text"
      },
      "source": [
        "<a href=\"https://colab.research.google.com/github/Syntax9090/Value_Proposition_canvas/blob/main/Tokenization.ipynb\" target=\"_parent\"><img src=\"https://colab.research.google.com/assets/colab-badge.svg\" alt=\"Open In Colab\"/></a>"
      ]
    },
    {
      "cell_type": "code",
      "execution_count": 1,
      "metadata": {
        "id": "vg0bK3EWxk3j"
      },
      "outputs": [],
      "source": [
        "import nltk"
      ]
    },
    {
      "cell_type": "code",
      "source": [
        "nltk.download('punkt')"
      ],
      "metadata": {
        "colab": {
          "base_uri": "https://localhost:8080/"
        },
        "id": "wlA7TWa3x80O",
        "outputId": "e17575fc-8c91-4ed4-d014-6252b2fbb32a"
      },
      "execution_count": 2,
      "outputs": [
        {
          "output_type": "stream",
          "name": "stderr",
          "text": [
            "[nltk_data] Downloading package punkt to /root/nltk_data...\n",
            "[nltk_data]   Unzipping tokenizers/punkt.zip.\n"
          ]
        },
        {
          "output_type": "execute_result",
          "data": {
            "text/plain": [
              "True"
            ]
          },
          "metadata": {},
          "execution_count": 2
        }
      ]
    },
    {
      "cell_type": "code",
      "source": [
        "text= \"Machine Learning is a subset of artificial intelligence, and it does with learning from the data without being explicitly programmed.\""
      ],
      "metadata": {
        "id": "XDQHeQityUqe"
      },
      "execution_count": 4,
      "outputs": []
    },
    {
      "cell_type": "code",
      "source": [
        "ml_tokens=nltk.word_tokenize(text)\n",
        "ml_tokens"
      ],
      "metadata": {
        "colab": {
          "base_uri": "https://localhost:8080/"
        },
        "id": "yBypuuV1ylxJ",
        "outputId": "7fd3ddb2-4f49-4263-efc3-c3c42384a275"
      },
      "execution_count": 8,
      "outputs": [
        {
          "output_type": "execute_result",
          "data": {
            "text/plain": [
              "['Machine',\n",
              " 'Learning',\n",
              " 'is',\n",
              " 'a',\n",
              " 'subset',\n",
              " 'of',\n",
              " 'artificial',\n",
              " 'intelligence',\n",
              " ',',\n",
              " 'and',\n",
              " 'it',\n",
              " 'does',\n",
              " 'with',\n",
              " 'learning',\n",
              " 'from',\n",
              " 'the',\n",
              " 'data',\n",
              " 'without',\n",
              " 'being',\n",
              " 'explicitly',\n",
              " 'programmed',\n",
              " '.']"
            ]
          },
          "metadata": {},
          "execution_count": 8
        }
      ]
    },
    {
      "cell_type": "code",
      "source": [
        "list (nltk.bigrams(ml_tokens))"
      ],
      "metadata": {
        "colab": {
          "base_uri": "https://localhost:8080/"
        },
        "id": "gDxSa4wizicD",
        "outputId": "41871e84-0724-4729-ce6c-4b9f0e07fd8d"
      },
      "execution_count": 10,
      "outputs": [
        {
          "output_type": "execute_result",
          "data": {
            "text/plain": [
              "[('Machine', 'Learning'),\n",
              " ('Learning', 'is'),\n",
              " ('is', 'a'),\n",
              " ('a', 'subset'),\n",
              " ('subset', 'of'),\n",
              " ('of', 'artificial'),\n",
              " ('artificial', 'intelligence'),\n",
              " ('intelligence', ','),\n",
              " (',', 'and'),\n",
              " ('and', 'it'),\n",
              " ('it', 'does'),\n",
              " ('does', 'with'),\n",
              " ('with', 'learning'),\n",
              " ('learning', 'from'),\n",
              " ('from', 'the'),\n",
              " ('the', 'data'),\n",
              " ('data', 'without'),\n",
              " ('without', 'being'),\n",
              " ('being', 'explicitly'),\n",
              " ('explicitly', 'programmed'),\n",
              " ('programmed', '.')]"
            ]
          },
          "metadata": {},
          "execution_count": 10
        }
      ]
    },
    {
      "cell_type": "code",
      "source": [
        "list(nltk.trigrams(ml_tokens))"
      ],
      "metadata": {
        "colab": {
          "base_uri": "https://localhost:8080/"
        },
        "id": "NkX6Uis4zs19",
        "outputId": "4e3d9ef0-9aaf-462a-9d03-a29e1d53ba41"
      },
      "execution_count": 11,
      "outputs": [
        {
          "output_type": "execute_result",
          "data": {
            "text/plain": [
              "[('Machine', 'Learning', 'is'),\n",
              " ('Learning', 'is', 'a'),\n",
              " ('is', 'a', 'subset'),\n",
              " ('a', 'subset', 'of'),\n",
              " ('subset', 'of', 'artificial'),\n",
              " ('of', 'artificial', 'intelligence'),\n",
              " ('artificial', 'intelligence', ','),\n",
              " ('intelligence', ',', 'and'),\n",
              " (',', 'and', 'it'),\n",
              " ('and', 'it', 'does'),\n",
              " ('it', 'does', 'with'),\n",
              " ('does', 'with', 'learning'),\n",
              " ('with', 'learning', 'from'),\n",
              " ('learning', 'from', 'the'),\n",
              " ('from', 'the', 'data'),\n",
              " ('the', 'data', 'without'),\n",
              " ('data', 'without', 'being'),\n",
              " ('without', 'being', 'explicitly'),\n",
              " ('being', 'explicitly', 'programmed'),\n",
              " ('explicitly', 'programmed', '.')]"
            ]
          },
          "metadata": {},
          "execution_count": 11
        }
      ]
    }
  ]
}